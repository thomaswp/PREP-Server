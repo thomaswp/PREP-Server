{
 "cells": [
  {
   "cell_type": "code",
   "execution_count": 33,
   "id": "2c00f7c4",
   "metadata": {},
   "outputs": [],
   "source": [
    "import pandas as pd\n",
    "import sqlite3\n",
    "import numpy as np"
   ]
  },
  {
   "cell_type": "code",
   "execution_count": 131,
   "id": "cf796019",
   "metadata": {
    "scrolled": false
   },
   "outputs": [
    {
     "data": {
      "text/html": [
       "<div>\n",
       "<style scoped>\n",
       "    .dataframe tbody tr th:only-of-type {\n",
       "        vertical-align: middle;\n",
       "    }\n",
       "\n",
       "    .dataframe tbody tr th {\n",
       "        vertical-align: top;\n",
       "    }\n",
       "\n",
       "    .dataframe thead th {\n",
       "        text-align: right;\n",
       "    }\n",
       "</style>\n",
       "<table border=\"1\" class=\"dataframe\">\n",
       "  <thead>\n",
       "    <tr style=\"text-align: right;\">\n",
       "      <th></th>\n",
       "      <th>SubjectID</th>\n",
       "      <th>AssignmentID</th>\n",
       "      <th>CodeStateID</th>\n",
       "      <th>InterventionType</th>\n",
       "      <th>InterventionMessage</th>\n",
       "      <th>Contents</th>\n",
       "      <th>Correct</th>\n",
       "    </tr>\n",
       "  </thead>\n",
       "  <tbody>\n",
       "    <tr>\n",
       "      <th>0</th>\n",
       "      <td>750</td>\n",
       "      <td>139</td>\n",
       "      <td>403848</td>\n",
       "      <td>algorithmic|Unused Variable</td>\n",
       "      <td>&lt;p&gt;The function &lt;code class='pedal-name'&gt;asser...</td>\n",
       "      <td>b\"from cisc108 import assert_equal\\n\\nnum_list...</td>\n",
       "      <td>False</td>\n",
       "    </tr>\n",
       "    <tr>\n",
       "      <th>1</th>\n",
       "      <td>750</td>\n",
       "      <td>139</td>\n",
       "      <td>403906</td>\n",
       "      <td>instructor|Student Unit Tests Failing</td>\n",
       "      <td>&lt;p&gt;2/3 of your unit tests are not passing.&lt;/p&gt;\\n</td>\n",
       "      <td>b\"from cisc108 import assert_equal\\n\\nnum_list...</td>\n",
       "      <td>False</td>\n",
       "    </tr>\n",
       "    <tr>\n",
       "      <th>2</th>\n",
       "      <td>750</td>\n",
       "      <td>139</td>\n",
       "      <td>403936</td>\n",
       "      <td>instructor|Student Unit Tests Failing</td>\n",
       "      <td>&lt;p&gt;1/3 of your unit tests are not passing.&lt;/p&gt;\\n</td>\n",
       "      <td>b\"from cisc108 import assert_equal\\n\\nnum_list...</td>\n",
       "      <td>False</td>\n",
       "    </tr>\n",
       "    <tr>\n",
       "      <th>3</th>\n",
       "      <td>750</td>\n",
       "      <td>139</td>\n",
       "      <td>403947</td>\n",
       "      <td>instructor|Student Unit Tests Failing</td>\n",
       "      <td>&lt;p&gt;3/3 of your unit tests are not passing.&lt;/p&gt;\\n</td>\n",
       "      <td>b\"from cisc108 import assert_equal\\n\\nnum_list...</td>\n",
       "      <td>False</td>\n",
       "    </tr>\n",
       "    <tr>\n",
       "      <th>4</th>\n",
       "      <td>750</td>\n",
       "      <td>139</td>\n",
       "      <td>403936</td>\n",
       "      <td>instructor|Student Unit Tests Failing</td>\n",
       "      <td>&lt;p&gt;1/3 of your unit tests are not passing.&lt;/p&gt;\\n</td>\n",
       "      <td>b\"from cisc108 import assert_equal\\n\\nnum_list...</td>\n",
       "      <td>False</td>\n",
       "    </tr>\n",
       "    <tr>\n",
       "      <th>...</th>\n",
       "      <td>...</td>\n",
       "      <td>...</td>\n",
       "      <td>...</td>\n",
       "      <td>...</td>\n",
       "      <td>...</td>\n",
       "      <td>...</td>\n",
       "      <td>...</td>\n",
       "    </tr>\n",
       "    <tr>\n",
       "      <th>1130</th>\n",
       "      <td>726</td>\n",
       "      <td>139</td>\n",
       "      <td>1021367</td>\n",
       "      <td>syntax|Syntax Error</td>\n",
       "      <td>&lt;p&gt;Bad syntax on line 22&lt;/p&gt;\\n&lt;p&gt;The traceback...</td>\n",
       "      <td>b\"from cisc108 import assert_equal\\n\\ndef is_o...</td>\n",
       "      <td>False</td>\n",
       "    </tr>\n",
       "    <tr>\n",
       "      <th>1131</th>\n",
       "      <td>726</td>\n",
       "      <td>139</td>\n",
       "      <td>1021368</td>\n",
       "      <td>algorithmic|Incorrect Arity</td>\n",
       "      <td>&lt;p&gt;The function &lt;code class='pedal-name'&gt;combi...</td>\n",
       "      <td>b\"from cisc108 import assert_equal\\n\\ndef is_o...</td>\n",
       "      <td>False</td>\n",
       "    </tr>\n",
       "    <tr>\n",
       "      <th>1132</th>\n",
       "      <td>726</td>\n",
       "      <td>139</td>\n",
       "      <td>1021369</td>\n",
       "      <td>algorithmic|Incorrect Arity</td>\n",
       "      <td>&lt;p&gt;The function &lt;code class='pedal-name'&gt;combi...</td>\n",
       "      <td>b\"from cisc108 import assert_equal\\n\\ndef is_o...</td>\n",
       "      <td>False</td>\n",
       "    </tr>\n",
       "    <tr>\n",
       "      <th>1133</th>\n",
       "      <td>726</td>\n",
       "      <td>139</td>\n",
       "      <td>1021370</td>\n",
       "      <td>algorithmic|Parameter Type Mismatch</td>\n",
       "      <td>&lt;p&gt;You defined the parameter &lt;code class='peda...</td>\n",
       "      <td>b\"from cisc108 import assert_equal\\n\\ndef is_o...</td>\n",
       "      <td>False</td>\n",
       "    </tr>\n",
       "    <tr>\n",
       "      <th>1134</th>\n",
       "      <td>726</td>\n",
       "      <td>139</td>\n",
       "      <td>1021371</td>\n",
       "      <td>algorithmic|Parameter Type Mismatch</td>\n",
       "      <td>&lt;p&gt;You defined the parameter &lt;code class='peda...</td>\n",
       "      <td>b\"from cisc108 import assert_equal\\n\\ndef is_o...</td>\n",
       "      <td>False</td>\n",
       "    </tr>\n",
       "  </tbody>\n",
       "</table>\n",
       "<p>1135 rows × 7 columns</p>\n",
       "</div>"
      ],
      "text/plain": [
       "     SubjectID AssignmentID CodeStateID  \\\n",
       "0          750          139      403848   \n",
       "1          750          139      403906   \n",
       "2          750          139      403936   \n",
       "3          750          139      403947   \n",
       "4          750          139      403936   \n",
       "...        ...          ...         ...   \n",
       "1130       726          139     1021367   \n",
       "1131       726          139     1021368   \n",
       "1132       726          139     1021369   \n",
       "1133       726          139     1021370   \n",
       "1134       726          139     1021371   \n",
       "\n",
       "                           InterventionType  \\\n",
       "0               algorithmic|Unused Variable   \n",
       "1     instructor|Student Unit Tests Failing   \n",
       "2     instructor|Student Unit Tests Failing   \n",
       "3     instructor|Student Unit Tests Failing   \n",
       "4     instructor|Student Unit Tests Failing   \n",
       "...                                     ...   \n",
       "1130                    syntax|Syntax Error   \n",
       "1131            algorithmic|Incorrect Arity   \n",
       "1132            algorithmic|Incorrect Arity   \n",
       "1133    algorithmic|Parameter Type Mismatch   \n",
       "1134    algorithmic|Parameter Type Mismatch   \n",
       "\n",
       "                                    InterventionMessage  \\\n",
       "0     <p>The function <code class='pedal-name'>asser...   \n",
       "1      <p>2/3 of your unit tests are not passing.</p>\\n   \n",
       "2      <p>1/3 of your unit tests are not passing.</p>\\n   \n",
       "3      <p>3/3 of your unit tests are not passing.</p>\\n   \n",
       "4      <p>1/3 of your unit tests are not passing.</p>\\n   \n",
       "...                                                 ...   \n",
       "1130  <p>Bad syntax on line 22</p>\\n<p>The traceback...   \n",
       "1131  <p>The function <code class='pedal-name'>combi...   \n",
       "1132  <p>The function <code class='pedal-name'>combi...   \n",
       "1133  <p>You defined the parameter <code class='peda...   \n",
       "1134  <p>You defined the parameter <code class='peda...   \n",
       "\n",
       "                                               Contents  Correct  \n",
       "0     b\"from cisc108 import assert_equal\\n\\nnum_list...    False  \n",
       "1     b\"from cisc108 import assert_equal\\n\\nnum_list...    False  \n",
       "2     b\"from cisc108 import assert_equal\\n\\nnum_list...    False  \n",
       "3     b\"from cisc108 import assert_equal\\n\\nnum_list...    False  \n",
       "4     b\"from cisc108 import assert_equal\\n\\nnum_list...    False  \n",
       "...                                                 ...      ...  \n",
       "1130  b\"from cisc108 import assert_equal\\n\\ndef is_o...    False  \n",
       "1131  b\"from cisc108 import assert_equal\\n\\ndef is_o...    False  \n",
       "1132  b\"from cisc108 import assert_equal\\n\\ndef is_o...    False  \n",
       "1133  b\"from cisc108 import assert_equal\\n\\ndef is_o...    False  \n",
       "1134  b\"from cisc108 import assert_equal\\n\\ndef is_o...    False  \n",
       "\n",
       "[1135 rows x 7 columns]"
      ]
     },
     "execution_count": 131,
     "metadata": {},
     "output_type": "execute_result"
    }
   ],
   "source": [
    "# assignmentID = 100\n",
    "assignmentID = 139\n",
    "\n",
    "query = f\"\"\"\n",
    "select SubjectID, AssignmentID, CodeStateID, InterventionType, InterventionMessage, Contents from (\n",
    "select SubjectID, AssignmentID, CodeStateID, InterventionType, InterventionMessage, CodeStateSection from MainTable where AssignmentId = \"{assignmentID}\" and InterventionCategory = \"Feedback\"\n",
    ") as main JOIN CodeState where main.CodeStateID = CodeState.ID and main.CodeStateSection = CodeState.Filename\n",
    "\"\"\"\n",
    "\n",
    "con = sqlite3.connect(\"data/progsnap2_21_consenting_no_demographics.db\")\n",
    "df = pd.read_sql_query(query, con)\n",
    "\n",
    "df[\"Correct\"] = df.InterventionType == \"complete|Complete\"\n",
    "\n",
    "df"
   ]
  },
  {
   "cell_type": "code",
   "execution_count": 132,
   "id": "299d1c3d",
   "metadata": {},
   "outputs": [
    {
     "data": {
      "text/plain": [
       "0.13480176211453745"
      ]
     },
     "execution_count": 132,
     "metadata": {},
     "output_type": "execute_result"
    }
   ],
   "source": [
    "np.mean(df.Correct)"
   ]
  },
  {
   "cell_type": "code",
   "execution_count": 133,
   "id": "6fa27c79",
   "metadata": {},
   "outputs": [
    {
     "data": {
      "text/plain": [
       "(794, 5329)"
      ]
     },
     "execution_count": 133,
     "metadata": {},
     "output_type": "execute_result"
    }
   ],
   "source": [
    "from sklearn.feature_extraction.text import TfidfVectorizer, CountVectorizer\n",
    "X = df.Contents\n",
    "y = df.Correct\n",
    "\n",
    "from sklearn.model_selection import train_test_split\n",
    "X_train_code, X_test_code, y_train, y_test = train_test_split(\n",
    "    X, y, test_size=0.3, random_state=42)\n",
    "\n",
    "#vectorizer = TfidfVectorizer(lowercase=False, token_pattern=\"[\\w]+|[^\\s]|[ ]{4}\")\n",
    "vectorizer = CountVectorizer(lowercase=False, token_pattern=\"[\\w]+|[^\\s]|[ ]{4}\", ngram_range=(1,3))\n",
    "vectorizer.fit(X_train_code)\n",
    "X_train = vectorizer.transform(X_train_code)\n",
    "X_test = vectorizer.transform(X_test_code)\n",
    "\n",
    "X_train.shape"
   ]
  },
  {
   "cell_type": "code",
   "execution_count": 134,
   "id": "2209d8c2",
   "metadata": {},
   "outputs": [
    {
     "data": {
      "text/plain": [
       "array(['    ', '         ', '              ', '          #',\n",
       "       '          Args', '          Maximum_number', '          NUM',\n",
       "       '          a', '          a_number', '          assert_equal',\n",
       "       '          big', '          bool', '          break',\n",
       "       '          continue', '          def', '          elif',\n",
       "       '          else', '          first_odd_number', '          for',\n",
       "       '          found', '          high', '          highOdd',\n",
       "       '          higher', '          highest', '          highestodd',\n",
       "       '          if', '          is_odd', '          item',\n",
       "       '          largest', '          max', '          maxNum',\n",
       "       '          maxOdd', '          max_num', '          max_number',\n",
       "       '          max_odd', '          max_value', '          maxed',\n",
       "       '          maxi', '          maxi_numb', '          maximum',\n",
       "       '          maximum_number', '          maximum_odd',\n",
       "       '          maximum_odd_number', '          maximum_odd_value',\n",
       "       '          maximum_odder', '          maximum_value',\n",
       "       '          mini', '          new_list', '          num',\n",
       "       '          number'], dtype=object)"
      ]
     },
     "execution_count": 134,
     "metadata": {},
     "output_type": "execute_result"
    }
   ],
   "source": [
    "feature_names = vectorizer.get_feature_names_out()\n",
    "feature_names[0:50]"
   ]
  },
  {
   "cell_type": "code",
   "execution_count": 135,
   "id": "19bd798e",
   "metadata": {},
   "outputs": [
    {
     "data": {
      "text/plain": [
       "0.5"
      ]
     },
     "execution_count": 135,
     "metadata": {},
     "output_type": "execute_result"
    }
   ],
   "source": [
    "from imblearn.over_sampling import RandomOverSampler\n",
    "ros = RandomOverSampler(random_state=0)\n",
    "X_resampled, y_resampled = ros.fit_resample(X_train, y_train)\n",
    "\n",
    "np.mean(y_resampled)"
   ]
  },
  {
   "cell_type": "code",
   "execution_count": 136,
   "id": "2baebeab",
   "metadata": {},
   "outputs": [],
   "source": [
    "from sklearn.svm import SVC\n",
    "from sklearn.tree import DecisionTreeClassifier\n",
    "from sklearn.ensemble import BaggingClassifier, AdaBoostClassifier\n",
    "\n",
    "clf = AdaBoostClassifier(estimator=DecisionTreeClassifier(max_depth=1),\n",
    "                        n_estimators=20, random_state=0).fit(X_resampled, y_resampled)\n",
    "\n",
    "# clf = SVC().fit(X_resampled, y_resampled)\n",
    "\n"
   ]
  },
  {
   "cell_type": "code",
   "execution_count": 137,
   "id": "4782f685",
   "metadata": {},
   "outputs": [
    {
     "name": "stdout",
     "output_type": "stream",
     "text": [
      "              precision    recall  f1-score   support\n",
      "\n",
      "       False       1.00      0.89      0.94       695\n",
      "        True       0.57      1.00      0.73        99\n",
      "\n",
      "    accuracy                           0.91       794\n",
      "   macro avg       0.79      0.95      0.84       794\n",
      "weighted avg       0.95      0.91      0.92       794\n",
      "\n"
     ]
    },
    {
     "data": {
      "text/plain": [
       "array([[621,  74],\n",
       "       [  0,  99]], dtype=int64)"
      ]
     },
     "execution_count": 137,
     "metadata": {},
     "output_type": "execute_result"
    }
   ],
   "source": [
    "from sklearn.metrics import classification_report\n",
    "from sklearn.metrics import confusion_matrix\n",
    "\n",
    "# Training performance (without oversampling)\n",
    "pred_train = clf.predict(X_train)\n",
    "\n",
    "print(classification_report(y_train, pred_train))\n",
    "\n",
    "confusion_matrix(y_train, pred_train)"
   ]
  },
  {
   "cell_type": "code",
   "execution_count": 138,
   "id": "f201b0c3",
   "metadata": {
    "scrolled": true
   },
   "outputs": [
    {
     "name": "stdout",
     "output_type": "stream",
     "text": [
      "              precision    recall  f1-score   support\n",
      "\n",
      "       False       0.99      0.84      0.91       287\n",
      "        True       0.53      0.94      0.68        54\n",
      "\n",
      "    accuracy                           0.86       341\n",
      "   macro avg       0.76      0.89      0.79       341\n",
      "weighted avg       0.91      0.86      0.87       341\n",
      "\n"
     ]
    },
    {
     "data": {
      "text/plain": [
       "array([[241,  46],\n",
       "       [  3,  51]], dtype=int64)"
      ]
     },
     "execution_count": 138,
     "metadata": {},
     "output_type": "execute_result"
    }
   ],
   "source": [
    "pred_test = clf.predict(X_test)\n",
    "\n",
    "print(classification_report(y_test, pred_test))\n",
    "\n",
    "confusion_matrix(y_test, pred_test)"
   ]
  },
  {
   "cell_type": "code",
   "execution_count": 159,
   "id": "b74a8617",
   "metadata": {},
   "outputs": [
    {
     "data": {
      "text/plain": [
       "<AxesSubplot:ylabel='Count'>"
      ]
     },
     "execution_count": 159,
     "metadata": {},
     "output_type": "execute_result"
    },
    {
     "data": {
      "image/png": "[encoded data removed]",
      "text/plain": [
       "<Figure size 432x288 with 1 Axes>"
      ]
     },
     "metadata": {
      "needs_background": "light"
     },
     "output_type": "display_data"
    }
   ],
   "source": [
    "import seaborn as sns\n",
    "\n",
    "probs = np.mean(np.array([est.predict_proba(X_test)[:,1] for est in clf.estimators_]), axis = 0)\n",
    "sns.histplot(probs)"
   ]
  },
  {
   "cell_type": "code",
   "execution_count": 160,
   "id": "cbe70bc0",
   "metadata": {
    "scrolled": true
   },
   "outputs": [
    {
     "data": {
      "text/plain": [
       "array([0.22222222, 0.11111111, 0.66666667, 0.33333333, 0.55555556,\n",
       "       0.88888889, 0.22222222, 0.44444444, 0.33333333, 0.22222222,\n",
       "       0.11111111, 0.33333333, 0.22222222, 0.44444444, 0.22222222,\n",
       "       0.22222222, 0.33333333, 0.11111111, 0.22222222, 0.33333333,\n",
       "       0.33333333, 0.44444444, 0.33333333, 0.44444444, 0.55555556,\n",
       "       0.33333333, 0.44444444, 0.77777778, 0.55555556, 0.11111111,\n",
       "       0.33333333, 0.33333333, 0.44444444, 0.44444444, 0.66666667,\n",
       "       1.        , 0.11111111, 0.22222222, 0.11111111, 0.44444444,\n",
       "       0.44444444, 0.44444444, 0.11111111, 0.77777778, 0.66666667,\n",
       "       0.66666667, 0.44444444, 0.        , 0.33333333, 0.44444444,\n",
       "       0.55555556, 0.44444444, 0.55555556, 0.55555556, 0.22222222,\n",
       "       0.33333333, 0.33333333, 0.22222222, 0.22222222, 0.22222222,\n",
       "       0.55555556, 0.33333333, 0.55555556, 0.11111111, 0.        ,\n",
       "       0.22222222, 0.22222222, 0.        , 0.22222222, 0.22222222,\n",
       "       0.33333333, 0.55555556, 0.44444444, 0.55555556, 0.11111111,\n",
       "       0.44444444, 0.33333333, 0.33333333, 0.33333333, 0.11111111,\n",
       "       0.33333333, 0.33333333, 0.11111111, 0.33333333, 0.33333333,\n",
       "       0.22222222, 0.44444444, 0.11111111, 0.44444444, 0.44444444,\n",
       "       0.44444444, 0.33333333, 0.44444444, 0.55555556, 0.11111111,\n",
       "       0.55555556, 0.44444444, 0.44444444, 0.22222222, 0.55555556,\n",
       "       0.44444444, 0.33333333, 0.22222222, 0.22222222, 0.22222222,\n",
       "       0.11111111, 0.44444444, 0.33333333, 0.55555556, 0.77777778,\n",
       "       0.22222222, 0.11111111, 0.33333333, 0.55555556, 0.33333333,\n",
       "       0.22222222, 0.33333333, 0.11111111, 0.44444444, 0.77777778,\n",
       "       0.22222222, 0.11111111, 0.22222222, 0.22222222, 0.33333333,\n",
       "       0.66666667, 0.77777778, 0.33333333, 0.33333333, 0.        ,\n",
       "       0.55555556, 0.55555556, 0.        , 0.22222222, 0.55555556,\n",
       "       0.44444444, 0.44444444, 0.33333333, 0.33333333, 0.55555556,\n",
       "       0.33333333, 0.55555556, 0.11111111, 0.33333333, 0.55555556,\n",
       "       0.33333333, 0.66666667, 0.11111111, 0.22222222, 0.55555556,\n",
       "       0.22222222, 0.44444444, 0.44444444, 0.44444444, 0.33333333,\n",
       "       0.44444444, 0.33333333, 0.44444444, 0.22222222, 0.22222222,\n",
       "       0.22222222, 0.11111111, 0.11111111, 0.44444444, 0.55555556,\n",
       "       0.55555556, 0.33333333, 0.22222222, 0.11111111, 0.22222222,\n",
       "       0.55555556, 0.66666667, 0.55555556, 0.66666667, 0.        ,\n",
       "       0.55555556, 0.22222222, 0.55555556, 0.33333333, 0.11111111,\n",
       "       0.22222222, 0.66666667, 0.44444444, 0.44444444, 0.55555556,\n",
       "       0.44444444, 0.11111111, 0.33333333, 0.33333333, 0.55555556,\n",
       "       0.33333333, 0.11111111, 0.33333333, 0.33333333, 0.22222222,\n",
       "       0.44444444, 0.11111111, 0.11111111, 0.33333333, 0.33333333,\n",
       "       0.33333333, 0.55555556, 0.33333333, 0.55555556, 0.11111111,\n",
       "       0.33333333, 0.66666667, 0.44444444, 0.33333333, 0.55555556,\n",
       "       0.11111111, 0.55555556, 0.44444444, 0.33333333, 0.11111111,\n",
       "       0.11111111, 0.44444444, 0.11111111, 0.22222222, 0.22222222,\n",
       "       0.11111111, 0.55555556, 0.11111111, 0.        , 0.11111111,\n",
       "       0.11111111, 0.22222222, 0.33333333, 0.55555556, 0.66666667,\n",
       "       0.55555556, 0.33333333, 0.77777778, 0.44444444, 0.55555556,\n",
       "       0.22222222, 0.44444444, 0.44444444, 0.33333333, 0.44444444,\n",
       "       0.22222222, 0.33333333, 0.22222222, 0.55555556, 0.22222222,\n",
       "       0.55555556, 0.33333333, 0.33333333, 0.11111111, 0.33333333,\n",
       "       0.33333333, 0.44444444, 0.11111111, 0.22222222, 0.22222222,\n",
       "       0.22222222, 0.22222222, 0.33333333, 0.22222222, 0.11111111,\n",
       "       0.11111111, 0.33333333, 0.22222222, 0.11111111, 0.55555556,\n",
       "       0.44444444, 0.33333333, 0.44444444, 0.33333333, 0.77777778,\n",
       "       0.22222222, 0.11111111, 0.44444444, 0.33333333, 0.44444444,\n",
       "       0.33333333, 0.55555556, 0.77777778, 0.33333333, 0.22222222,\n",
       "       0.11111111, 0.44444444, 0.11111111, 0.33333333, 0.33333333,\n",
       "       0.33333333, 0.33333333, 0.22222222, 0.33333333, 0.88888889,\n",
       "       0.33333333, 0.44444444, 0.33333333, 0.44444444, 0.11111111,\n",
       "       0.33333333, 0.22222222, 0.11111111, 0.55555556, 0.22222222,\n",
       "       0.44444444, 0.11111111, 0.55555556, 0.11111111, 0.22222222,\n",
       "       0.55555556, 0.33333333, 0.22222222, 0.66666667, 0.33333333,\n",
       "       0.22222222, 0.22222222, 0.44444444, 0.88888889, 0.33333333,\n",
       "       0.44444444, 0.        , 0.22222222, 0.33333333, 0.33333333,\n",
       "       0.55555556, 0.22222222, 0.22222222, 0.33333333, 0.66666667,\n",
       "       0.44444444, 0.33333333, 0.33333333, 0.22222222, 0.44444444,\n",
       "       0.22222222, 0.66666667, 0.66666667, 0.44444444, 0.33333333,\n",
       "       0.11111111, 0.44444444, 0.33333333, 0.55555556, 0.33333333,\n",
       "       0.33333333])"
      ]
     },
     "execution_count": 160,
     "metadata": {},
     "output_type": "execute_result"
    }
   ],
   "source": [
    "def unweighted_prediction(clf, X):\n",
    "    preds = np.array([est.predict(X) for est in clf.estimators_])\n",
    "    probs = np.mean(preds, axis = 0)\n",
    "    pmax = np.max(probs)\n",
    "    pmin = np.min(probs)\n",
    "    return (probs - pmin) / (pmax - pmin)\n",
    "\n",
    "sns.histplot(unweighted_prediction(clf, X_test))"
   ]
  },
  {
   "cell_type": "code",
   "execution_count": 161,
   "id": "4da51ca2",
   "metadata": {
    "scrolled": true
   },
   "outputs": [
    {
     "data": {
      "text/html": [
       "<div>\n",
       "<style scoped>\n",
       "    .dataframe tbody tr th:only-of-type {\n",
       "        vertical-align: middle;\n",
       "    }\n",
       "\n",
       "    .dataframe tbody tr th {\n",
       "        vertical-align: top;\n",
       "    }\n",
       "\n",
       "    .dataframe thead th {\n",
       "        text-align: right;\n",
       "    }\n",
       "</style>\n",
       "<table border=\"1\" class=\"dataframe\">\n",
       "  <thead>\n",
       "    <tr style=\"text-align: right;\">\n",
       "      <th></th>\n",
       "      <th>Code</th>\n",
       "      <th>Progress_unweighted</th>\n",
       "      <th>Progress_weigted</th>\n",
       "      <th>Correct</th>\n",
       "    </tr>\n",
       "  </thead>\n",
       "  <tbody>\n",
       "    <tr>\n",
       "      <th>784</th>\n",
       "      <td>from cisc108 import assert_equal\\n\\ndef is_odd...</td>\n",
       "      <td>0.222222</td>\n",
       "      <td>0.460074</td>\n",
       "      <td>False</td>\n",
       "    </tr>\n",
       "    <tr>\n",
       "      <th>900</th>\n",
       "      <td>from cisc108 import assert_equal\\n\\ndef is_odd...</td>\n",
       "      <td>0.111111</td>\n",
       "      <td>0.131523</td>\n",
       "      <td>False</td>\n",
       "    </tr>\n",
       "    <tr>\n",
       "      <th>413</th>\n",
       "      <td>from cisc108 import assert_equal\\n\\ndef is_odd...</td>\n",
       "      <td>0.666667</td>\n",
       "      <td>0.563376</td>\n",
       "      <td>True</td>\n",
       "    </tr>\n",
       "    <tr>\n",
       "      <th>467</th>\n",
       "      <td>from cisc108 import assert_equal\\n\\ndef is_odd...</td>\n",
       "      <td>0.333333</td>\n",
       "      <td>0.501650</td>\n",
       "      <td>False</td>\n",
       "    </tr>\n",
       "    <tr>\n",
       "      <th>746</th>\n",
       "      <td>from cisc108 import assert_equal\\n\\ndef is_odd...</td>\n",
       "      <td>0.555556</td>\n",
       "      <td>0.551898</td>\n",
       "      <td>False</td>\n",
       "    </tr>\n",
       "    <tr>\n",
       "      <th>...</th>\n",
       "      <td>...</td>\n",
       "      <td>...</td>\n",
       "      <td>...</td>\n",
       "      <td>...</td>\n",
       "    </tr>\n",
       "    <tr>\n",
       "      <th>334</th>\n",
       "      <td>from cisc108 import assert_equal\\n\\ndef is_odd...</td>\n",
       "      <td>0.444444</td>\n",
       "      <td>0.516995</td>\n",
       "      <td>False</td>\n",
       "    </tr>\n",
       "    <tr>\n",
       "      <th>714</th>\n",
       "      <td>from cisc108 import assert_equal\\n\\ndef is_odd...</td>\n",
       "      <td>0.333333</td>\n",
       "      <td>0.504821</td>\n",
       "      <td>False</td>\n",
       "    </tr>\n",
       "    <tr>\n",
       "      <th>834</th>\n",
       "      <td>from cisc108 import assert_equal\\n\\ndef is_odd...</td>\n",
       "      <td>0.555556</td>\n",
       "      <td>0.190608</td>\n",
       "      <td>False</td>\n",
       "    </tr>\n",
       "    <tr>\n",
       "      <th>677</th>\n",
       "      <td>from cisc108 import assert_equal\\n\\ndef is_odd...</td>\n",
       "      <td>0.333333</td>\n",
       "      <td>0.145011</td>\n",
       "      <td>False</td>\n",
       "    </tr>\n",
       "    <tr>\n",
       "      <th>513</th>\n",
       "      <td>from cisc108 import assert_equal\\n\\ndef maximu...</td>\n",
       "      <td>0.333333</td>\n",
       "      <td>0.142484</td>\n",
       "      <td>False</td>\n",
       "    </tr>\n",
       "  </tbody>\n",
       "</table>\n",
       "<p>341 rows × 4 columns</p>\n",
       "</div>"
      ],
      "text/plain": [
       "                                                  Code  Progress_unweighted  \\\n",
       "784  from cisc108 import assert_equal\\n\\ndef is_odd...             0.222222   \n",
       "900  from cisc108 import assert_equal\\n\\ndef is_odd...             0.111111   \n",
       "413  from cisc108 import assert_equal\\n\\ndef is_odd...             0.666667   \n",
       "467  from cisc108 import assert_equal\\n\\ndef is_odd...             0.333333   \n",
       "746  from cisc108 import assert_equal\\n\\ndef is_odd...             0.555556   \n",
       "..                                                 ...                  ...   \n",
       "334  from cisc108 import assert_equal\\n\\ndef is_odd...             0.444444   \n",
       "714  from cisc108 import assert_equal\\n\\ndef is_odd...             0.333333   \n",
       "834  from cisc108 import assert_equal\\n\\ndef is_odd...             0.555556   \n",
       "677  from cisc108 import assert_equal\\n\\ndef is_odd...             0.333333   \n",
       "513  from cisc108 import assert_equal\\n\\ndef maximu...             0.333333   \n",
       "\n",
       "     Progress_weigted  Correct  \n",
       "784          0.460074    False  \n",
       "900          0.131523    False  \n",
       "413          0.563376     True  \n",
       "467          0.501650    False  \n",
       "746          0.551898    False  \n",
       "..                ...      ...  \n",
       "334          0.516995    False  \n",
       "714          0.504821    False  \n",
       "834          0.190608    False  \n",
       "677          0.145011    False  \n",
       "513          0.142484    False  \n",
       "\n",
       "[341 rows x 4 columns]"
      ]
     },
     "execution_count": 161,
     "metadata": {},
     "output_type": "execute_result"
    }
   ],
   "source": [
    "sample = pd.DataFrame({\n",
    "    'Code': X_test_code.str.decode('UTF-8'),\n",
    "    'Progress_unweighted': unweighted_prediction(clf, X_test),\n",
    "    'Progress_weigted': clf.predict_proba(X_test)[:,1],\n",
    "    'Correct': y_test\n",
    "})\n",
    "sample.to_csv(f'data/out/p{assignmentID}.csv', index=False)\n",
    "sample"
   ]
  },
  {
   "cell_type": "code",
   "execution_count": 139,
   "id": "e99f321f",
   "metadata": {
    "scrolled": true
   },
   "outputs": [
    {
     "data": {
      "image/png": "[encoded data removed]",
      "text/plain": [
       "<Figure size 432x288 with 1 Axes>"
      ]
     },
     "metadata": {
      "needs_background": "light"
     },
     "output_type": "display_data"
    }
   ],
   "source": [
    "from sklearn.tree import plot_tree\n",
    "\n",
    "def print_rule(clf, index):\n",
    "    estimator = clf.estimators_[index]\n",
    "#     name = feature_names[estimator.tree_.feature[0]]\n",
    "#     thresh = estimator.tree_.threshold[0]\n",
    "#     estimator_samples = clf.estimators_samples_[index]\n",
    "#     children = estimator.apply(X_resampled[estimator_samples])\n",
    "#     perc_child_1 = np.mean(y_resampled[estimator_samples][children == 1])\n",
    "#     perc_child_2 = np.mean(y_resampled[estimator_samples][children == 2])\n",
    "#     pred_child_1 = perc_child_1 > 0.5\n",
    "#     pred_child_2 = perc_child_2 > 0.5\n",
    "#     if pred_child_1 and pred_child_2:\n",
    "#         print(f\"Degenerate rule: always {pred_child_1}\")\n",
    "#         return\n",
    "#     if pred_child_1:\n",
    "#         print (f\"If {name} < {thresh}, True\")\n",
    "#     else:\n",
    "#         print (f\"If {name} > {thresh}, True\")\n",
    "    plot_tree(estimator)\n",
    "    \n",
    "print_rule(clf, 8)"
   ]
  },
  {
   "cell_type": "code",
   "execution_count": 140,
   "id": "95acdb3b",
   "metadata": {},
   "outputs": [
    {
     "data": {
      "text/plain": [
       "['is_odd (',\n",
       " 'maximum_odd (',\n",
       " '10 ]',\n",
       " '6',\n",
       " '= 0     ',\n",
       " '2 , 7',\n",
       " 'item ) =',\n",
       " 'and',\n",
       " '= highest',\n",
       " ', 2 ,',\n",
       " ') >',\n",
       " '( number',\n",
       " ', 4 ,',\n",
       " '13',\n",
       " '[ 0 ]',\n",
       " '22 ) ,',\n",
       " '          return',\n",
       " '[ 2',\n",
       " ':      max_odd',\n",
       " '] )     ']"
      ]
     },
     "execution_count": 140,
     "metadata": {},
     "output_type": "execute_result"
    }
   ],
   "source": [
    "[feature_names[est.tree_.feature[0]] for est in clf.estimators_]"
   ]
  }
 ],
 "metadata": {
  "kernelspec": {
   "display_name": "Python 3 (ipykernel)",
   "language": "python",
   "name": "python3"
  },
  "language_info": {
   "codemirror_mode": {
    "name": "ipython",
    "version": 3
   },
   "file_extension": ".py",
   "mimetype": "text/x-python",
   "name": "python",
   "nbconvert_exporter": "python",
   "pygments_lexer": "ipython3",
   "version": "3.9.12"
  }
 },
 "nbformat": 4,
 "nbformat_minor": 5
}
