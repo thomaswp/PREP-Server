{
 "cells": [
  {
   "cell_type": "code",
   "execution_count": 1,
   "id": "2c00f7c4",
   "metadata": {},
   "outputs": [],
   "source": [
    "import pandas as pd\n",
    "import sqlite3\n",
    "import numpy as np"
   ]
  },
  {
   "cell_type": "code",
   "execution_count": 2,
   "id": "cf796019",
   "metadata": {
    "scrolled": false
   },
   "outputs": [
    {
     "data": {
      "text/html": [
       "<div>\n",
       "<style scoped>\n",
       "    .dataframe tbody tr th:only-of-type {\n",
       "        vertical-align: middle;\n",
       "    }\n",
       "\n",
       "    .dataframe tbody tr th {\n",
       "        vertical-align: top;\n",
       "    }\n",
       "\n",
       "    .dataframe thead th {\n",
       "        text-align: right;\n",
       "    }\n",
       "</style>\n",
       "<table border=\"1\" class=\"dataframe\">\n",
       "  <thead>\n",
       "    <tr style=\"text-align: right;\">\n",
       "      <th></th>\n",
       "      <th>SubjectID</th>\n",
       "      <th>AssignmentID</th>\n",
       "      <th>CodeStateID</th>\n",
       "      <th>InterventionType</th>\n",
       "      <th>InterventionMessage</th>\n",
       "      <th>Contents</th>\n",
       "      <th>Correct</th>\n",
       "    </tr>\n",
       "  </thead>\n",
       "  <tbody>\n",
       "    <tr>\n",
       "      <th>0</th>\n",
       "      <td>750</td>\n",
       "      <td>139</td>\n",
       "      <td>403848</td>\n",
       "      <td>algorithmic|Unused Variable</td>\n",
       "      <td>&lt;p&gt;The function &lt;code class='pedal-name'&gt;asser...</td>\n",
       "      <td>b\"from cisc108 import assert_equal\\n\\nnum_list...</td>\n",
       "      <td>False</td>\n",
       "    </tr>\n",
       "    <tr>\n",
       "      <th>1</th>\n",
       "      <td>750</td>\n",
       "      <td>139</td>\n",
       "      <td>403906</td>\n",
       "      <td>instructor|Student Unit Tests Failing</td>\n",
       "      <td>&lt;p&gt;2/3 of your unit tests are not passing.&lt;/p&gt;\\n</td>\n",
       "      <td>b\"from cisc108 import assert_equal\\n\\nnum_list...</td>\n",
       "      <td>False</td>\n",
       "    </tr>\n",
       "    <tr>\n",
       "      <th>2</th>\n",
       "      <td>750</td>\n",
       "      <td>139</td>\n",
       "      <td>403936</td>\n",
       "      <td>instructor|Student Unit Tests Failing</td>\n",
       "      <td>&lt;p&gt;1/3 of your unit tests are not passing.&lt;/p&gt;\\n</td>\n",
       "      <td>b\"from cisc108 import assert_equal\\n\\nnum_list...</td>\n",
       "      <td>False</td>\n",
       "    </tr>\n",
       "    <tr>\n",
       "      <th>3</th>\n",
       "      <td>750</td>\n",
       "      <td>139</td>\n",
       "      <td>403947</td>\n",
       "      <td>instructor|Student Unit Tests Failing</td>\n",
       "      <td>&lt;p&gt;3/3 of your unit tests are not passing.&lt;/p&gt;\\n</td>\n",
       "      <td>b\"from cisc108 import assert_equal\\n\\nnum_list...</td>\n",
       "      <td>False</td>\n",
       "    </tr>\n",
       "    <tr>\n",
       "      <th>4</th>\n",
       "      <td>750</td>\n",
       "      <td>139</td>\n",
       "      <td>403936</td>\n",
       "      <td>instructor|Student Unit Tests Failing</td>\n",
       "      <td>&lt;p&gt;1/3 of your unit tests are not passing.&lt;/p&gt;\\n</td>\n",
       "      <td>b\"from cisc108 import assert_equal\\n\\nnum_list...</td>\n",
       "      <td>False</td>\n",
       "    </tr>\n",
       "    <tr>\n",
       "      <th>...</th>\n",
       "      <td>...</td>\n",
       "      <td>...</td>\n",
       "      <td>...</td>\n",
       "      <td>...</td>\n",
       "      <td>...</td>\n",
       "      <td>...</td>\n",
       "      <td>...</td>\n",
       "    </tr>\n",
       "    <tr>\n",
       "      <th>1130</th>\n",
       "      <td>726</td>\n",
       "      <td>139</td>\n",
       "      <td>1021367</td>\n",
       "      <td>syntax|Syntax Error</td>\n",
       "      <td>&lt;p&gt;Bad syntax on line 22&lt;/p&gt;\\n&lt;p&gt;The traceback...</td>\n",
       "      <td>b\"from cisc108 import assert_equal\\n\\ndef is_o...</td>\n",
       "      <td>False</td>\n",
       "    </tr>\n",
       "    <tr>\n",
       "      <th>1131</th>\n",
       "      <td>726</td>\n",
       "      <td>139</td>\n",
       "      <td>1021368</td>\n",
       "      <td>algorithmic|Incorrect Arity</td>\n",
       "      <td>&lt;p&gt;The function &lt;code class='pedal-name'&gt;combi...</td>\n",
       "      <td>b\"from cisc108 import assert_equal\\n\\ndef is_o...</td>\n",
       "      <td>False</td>\n",
       "    </tr>\n",
       "    <tr>\n",
       "      <th>1132</th>\n",
       "      <td>726</td>\n",
       "      <td>139</td>\n",
       "      <td>1021369</td>\n",
       "      <td>algorithmic|Incorrect Arity</td>\n",
       "      <td>&lt;p&gt;The function &lt;code class='pedal-name'&gt;combi...</td>\n",
       "      <td>b\"from cisc108 import assert_equal\\n\\ndef is_o...</td>\n",
       "      <td>False</td>\n",
       "    </tr>\n",
       "    <tr>\n",
       "      <th>1133</th>\n",
       "      <td>726</td>\n",
       "      <td>139</td>\n",
       "      <td>1021370</td>\n",
       "      <td>algorithmic|Parameter Type Mismatch</td>\n",
       "      <td>&lt;p&gt;You defined the parameter &lt;code class='peda...</td>\n",
       "      <td>b\"from cisc108 import assert_equal\\n\\ndef is_o...</td>\n",
       "      <td>False</td>\n",
       "    </tr>\n",
       "    <tr>\n",
       "      <th>1134</th>\n",
       "      <td>726</td>\n",
       "      <td>139</td>\n",
       "      <td>1021371</td>\n",
       "      <td>algorithmic|Parameter Type Mismatch</td>\n",
       "      <td>&lt;p&gt;You defined the parameter &lt;code class='peda...</td>\n",
       "      <td>b\"from cisc108 import assert_equal\\n\\ndef is_o...</td>\n",
       "      <td>False</td>\n",
       "    </tr>\n",
       "  </tbody>\n",
       "</table>\n",
       "<p>1135 rows × 7 columns</p>\n",
       "</div>"
      ],
      "text/plain": [
       "     SubjectID AssignmentID CodeStateID  \\\n",
       "0          750          139      403848   \n",
       "1          750          139      403906   \n",
       "2          750          139      403936   \n",
       "3          750          139      403947   \n",
       "4          750          139      403936   \n",
       "...        ...          ...         ...   \n",
       "1130       726          139     1021367   \n",
       "1131       726          139     1021368   \n",
       "1132       726          139     1021369   \n",
       "1133       726          139     1021370   \n",
       "1134       726          139     1021371   \n",
       "\n",
       "                           InterventionType  \\\n",
       "0               algorithmic|Unused Variable   \n",
       "1     instructor|Student Unit Tests Failing   \n",
       "2     instructor|Student Unit Tests Failing   \n",
       "3     instructor|Student Unit Tests Failing   \n",
       "4     instructor|Student Unit Tests Failing   \n",
       "...                                     ...   \n",
       "1130                    syntax|Syntax Error   \n",
       "1131            algorithmic|Incorrect Arity   \n",
       "1132            algorithmic|Incorrect Arity   \n",
       "1133    algorithmic|Parameter Type Mismatch   \n",
       "1134    algorithmic|Parameter Type Mismatch   \n",
       "\n",
       "                                    InterventionMessage  \\\n",
       "0     <p>The function <code class='pedal-name'>asser...   \n",
       "1      <p>2/3 of your unit tests are not passing.</p>\\n   \n",
       "2      <p>1/3 of your unit tests are not passing.</p>\\n   \n",
       "3      <p>3/3 of your unit tests are not passing.</p>\\n   \n",
       "4      <p>1/3 of your unit tests are not passing.</p>\\n   \n",
       "...                                                 ...   \n",
       "1130  <p>Bad syntax on line 22</p>\\n<p>The traceback...   \n",
       "1131  <p>The function <code class='pedal-name'>combi...   \n",
       "1132  <p>The function <code class='pedal-name'>combi...   \n",
       "1133  <p>You defined the parameter <code class='peda...   \n",
       "1134  <p>You defined the parameter <code class='peda...   \n",
       "\n",
       "                                               Contents  Correct  \n",
       "0     b\"from cisc108 import assert_equal\\n\\nnum_list...    False  \n",
       "1     b\"from cisc108 import assert_equal\\n\\nnum_list...    False  \n",
       "2     b\"from cisc108 import assert_equal\\n\\nnum_list...    False  \n",
       "3     b\"from cisc108 import assert_equal\\n\\nnum_list...    False  \n",
       "4     b\"from cisc108 import assert_equal\\n\\nnum_list...    False  \n",
       "...                                                 ...      ...  \n",
       "1130  b\"from cisc108 import assert_equal\\n\\ndef is_o...    False  \n",
       "1131  b\"from cisc108 import assert_equal\\n\\ndef is_o...    False  \n",
       "1132  b\"from cisc108 import assert_equal\\n\\ndef is_o...    False  \n",
       "1133  b\"from cisc108 import assert_equal\\n\\ndef is_o...    False  \n",
       "1134  b\"from cisc108 import assert_equal\\n\\ndef is_o...    False  \n",
       "\n",
       "[1135 rows x 7 columns]"
      ]
     },
     "execution_count": 2,
     "metadata": {},
     "output_type": "execute_result"
    }
   ],
   "source": [
    "# assignmentID = 100\n",
    "assignmentID = 139\n",
    "\n",
    "query = f\"\"\"\n",
    "select SubjectID, AssignmentID, CodeStateID, InterventionType, InterventionMessage, Contents from (\n",
    "select SubjectID, AssignmentID, CodeStateID, InterventionType, InterventionMessage, CodeStateSection from MainTable where AssignmentId = \"{assignmentID}\" and InterventionCategory = \"Feedback\"\n",
    ") as main JOIN CodeState where main.CodeStateID = CodeState.ID and main.CodeStateSection = CodeState.Filename\n",
    "\"\"\"\n",
    "\n",
    "con = sqlite3.connect(\"data/progsnap2_21_consenting_no_demographics.db\")\n",
    "df = pd.read_sql_query(query, con)\n",
    "\n",
    "df[\"Correct\"] = df.InterventionType == \"complete|Complete\"\n",
    "\n",
    "df"
   ]
  },
  {
   "cell_type": "code",
   "execution_count": 3,
   "id": "299d1c3d",
   "metadata": {},
   "outputs": [
    {
     "data": {
      "text/plain": [
       "0.13480176211453745"
      ]
     },
     "execution_count": 3,
     "metadata": {},
     "output_type": "execute_result"
    }
   ],
   "source": [
    "np.mean(df.Correct)"
   ]
  },
  {
   "cell_type": "code",
   "execution_count": 57,
   "id": "a6f632ea",
   "metadata": {
    "scrolled": true
   },
   "outputs": [
    {
     "name": "stdout",
     "output_type": "stream",
     "text": [
      "from cisc108 import assert_equal\n",
      "\n",
      "num_list1 = [4,6,2,3,]\n",
      "num_list2 = [44,77,12,11]\n",
      "num_list3 = [21,23,25,27]\n",
      "\n",
      "def is_odd(a_number: int) -> bool:\n",
      "    #--\n",
      "    return a_number % 2 == 1\n",
      "\n",
      "def maximum_odd(odd: list) -> int:\n",
      "    max = odd[0]\n",
      "    for num in odd:\n",
      "        if is_odd(num) == True:\n",
      "            if num > max:\n",
      "                max = num\n",
      "        else:\n",
      "            return max\n",
      "    return max\n"
     ]
    }
   ],
   "source": [
    "import sys, token, tokenize, io\n",
    "\n",
    "# Credit: https://gist.github.com/BroHui/aca2b8e6e6bdf3cb4af4b246c9837fa3\n",
    "def strip_comments(source):\n",
    "    \n",
    "    if (source is None or len(source.strip()) == 0):\n",
    "        return \"\"\n",
    "\n",
    "    prev_toktype = token.INDENT\n",
    "    first_line = None\n",
    "    last_lineno = -1\n",
    "    last_col = 0\n",
    "\n",
    "    mod = \"\"\n",
    "    \n",
    "    tokgen = tokenize.generate_tokens(io.StringIO(source).readline)\n",
    "    try:\n",
    "        for toktype, ttext, (slineno, scol), (elineno, ecol), ltext in tokgen:\n",
    "            if 0:   # Change to if 1 to see the tokens fly by.\n",
    "                print(\"%10s %-14s %-20r %r\" % (\n",
    "                    tokenize.tok_name.get(toktype, toktype),\n",
    "                    \"%d.%d-%d.%d\" % (slineno, scol, elineno, ecol),\n",
    "                    ttext, ltext\n",
    "                    ))\n",
    "            if slineno > last_lineno:\n",
    "                last_col = 0\n",
    "            if scol > last_col:\n",
    "                mod += (\" \" * (scol - last_col))\n",
    "            if toktype == token.STRING and (prev_toktype == token.INDENT or prev_toktype == token.NEWLINE):\n",
    "                # Docstring\n",
    "                mod += (\"#--\")\n",
    "            elif toktype == tokenize.COMMENT:\n",
    "                # Comment\n",
    "                mod += (\"##\\n\")\n",
    "            else:\n",
    "                mod += (ttext)\n",
    "            prev_toktype = toktype\n",
    "            last_col = ecol\n",
    "            last_lineno = elineno\n",
    "    except:\n",
    "        # Parse failure ==> Return original\n",
    "        return source\n",
    "    \n",
    "    return mod\n",
    "        \n",
    "print(strip_comments(df.Contents[0].decode('UTF-8')))"
   ]
  },
  {
   "cell_type": "code",
   "execution_count": 58,
   "id": "b782d2e3",
   "metadata": {},
   "outputs": [
    {
     "name": "stdout",
     "output_type": "stream",
     "text": [
      "from cisc108 import assert_equal\n",
      "\n",
      "num_list1 = [4,6,2,3]\n",
      "num_list2 = [44,77,12,11]\n",
      "num_list3 = [21,23,25,27]\n",
      "\n",
      "def is_odd(a_number: int) -> bool:\n",
      "    #--\n",
      "    return a_number % 2 == 1\n",
      "\n",
      "def maximum_odd(odd: list) -> int:\n",
      "    max = odd[0]\n",
      "    for num in odd:\n",
      "        if is_odd(num) == True:\n",
      "            if num > max:\n",
      "                max = num\n",
      "        else:\n",
      "            return max\n",
      "    return max\n",
      "\n",
      "assert_equal(maximum_odd(num_list1), 3)\n",
      "assert_equal(maximum_odd(num_list2), 77)\n",
      "assert_equal(maximum_odd(num_list3), 27)\n"
     ]
    }
   ],
   "source": [
    "df[\"Code\"] = df.Contents.str.decode('UTF-8').apply(strip_comments)\n",
    "print(df.Code[1])"
   ]
  },
  {
   "cell_type": "code",
   "execution_count": 60,
   "id": "6fa27c79",
   "metadata": {},
   "outputs": [
    {
     "data": {
      "text/plain": [
       "(794, 4993)"
      ]
     },
     "execution_count": 60,
     "metadata": {},
     "output_type": "execute_result"
    }
   ],
   "source": [
    "from sklearn.feature_extraction.text import TfidfVectorizer, CountVectorizer\n",
    "X = df.Code\n",
    "y = df.Correct\n",
    "\n",
    "from sklearn.model_selection import train_test_split\n",
    "X_train_code, X_test_code, y_train, y_test = train_test_split(\n",
    "    X, y, test_size=0.3, random_state=42)\n",
    "\n",
    "#vectorizer = TfidfVectorizer(lowercase=False, token_pattern=\"[\\w]+|[^\\s]|[ ]{4}\")\n",
    "vectorizer = CountVectorizer(lowercase=False, token_pattern=\"[\\w]+|[^\\s]|[ ]{4}\", ngram_range=(1,3))\n",
    "vectorizer.fit(X_train_code)\n",
    "X_train = vectorizer.transform(X_train_code)\n",
    "X_test = vectorizer.transform(X_test_code)\n",
    "\n",
    "X_train.shape"
   ]
  },
  {
   "cell_type": "code",
   "execution_count": 61,
   "id": "2209d8c2",
   "metadata": {},
   "outputs": [
    {
     "data": {
      "text/plain": [
       "array(['    ', '         ', '              ', '          #',\n",
       "       '          Args', '          Maximum_number', '          NUM',\n",
       "       '          a', '          a_number', '          assert_equal',\n",
       "       '          big', '          bool', '          break',\n",
       "       '          continue', '          def', '          elif',\n",
       "       '          else', '          first_odd_number', '          for',\n",
       "       '          found', '          high', '          highOdd',\n",
       "       '          higher', '          highest', '          highestodd',\n",
       "       '          if', '          is_odd', '          item',\n",
       "       '          largest', '          max', '          maxNum',\n",
       "       '          maxOdd', '          max_num', '          max_number',\n",
       "       '          max_odd', '          max_value', '          maxed',\n",
       "       '          maxi', '          maxi_numb', '          maximum',\n",
       "       '          maximum_number', '          maximum_odd',\n",
       "       '          maximum_odd_number', '          maximum_odd_value',\n",
       "       '          maximum_odder', '          maximum_value',\n",
       "       '          mini', '          new_list', '          num',\n",
       "       '          number'], dtype=object)"
      ]
     },
     "execution_count": 61,
     "metadata": {},
     "output_type": "execute_result"
    }
   ],
   "source": [
    "feature_names = vectorizer.get_feature_names_out()\n",
    "feature_names[0:50]"
   ]
  },
  {
   "cell_type": "code",
   "execution_count": 62,
   "id": "19bd798e",
   "metadata": {},
   "outputs": [
    {
     "data": {
      "text/plain": [
       "0.5"
      ]
     },
     "execution_count": 62,
     "metadata": {},
     "output_type": "execute_result"
    }
   ],
   "source": [
    "from imblearn.over_sampling import RandomOverSampler\n",
    "ros = RandomOverSampler(random_state=0)\n",
    "X_resampled, y_resampled = ros.fit_resample(X_train, y_train)\n",
    "\n",
    "np.mean(y_resampled)"
   ]
  },
  {
   "cell_type": "code",
   "execution_count": 63,
   "id": "2baebeab",
   "metadata": {},
   "outputs": [],
   "source": [
    "from sklearn.svm import SVC\n",
    "from sklearn.tree import DecisionTreeClassifier\n",
    "from sklearn.ensemble import BaggingClassifier, AdaBoostClassifier\n",
    "\n",
    "clf = AdaBoostClassifier(estimator=DecisionTreeClassifier(max_depth=1),\n",
    "                        n_estimators=20, random_state=0).fit(X_resampled, y_resampled)\n",
    "\n",
    "# clf = SVC().fit(X_resampled, y_resampled)\n",
    "\n"
   ]
  },
  {
   "cell_type": "code",
   "execution_count": 64,
   "id": "4782f685",
   "metadata": {},
   "outputs": [
    {
     "name": "stdout",
     "output_type": "stream",
     "text": [
      "              precision    recall  f1-score   support\n",
      "\n",
      "       False       1.00      0.92      0.96       695\n",
      "        True       0.63      0.98      0.76        99\n",
      "\n",
      "    accuracy                           0.92       794\n",
      "   macro avg       0.81      0.95      0.86       794\n",
      "weighted avg       0.95      0.92      0.93       794\n",
      "\n"
     ]
    },
    {
     "data": {
      "text/plain": [
       "array([[637,  58],\n",
       "       [  2,  97]], dtype=int64)"
      ]
     },
     "execution_count": 64,
     "metadata": {},
     "output_type": "execute_result"
    }
   ],
   "source": [
    "from sklearn.metrics import classification_report\n",
    "from sklearn.metrics import confusion_matrix\n",
    "\n",
    "# Training performance (without oversampling)\n",
    "pred_train = clf.predict(X_train)\n",
    "\n",
    "print(classification_report(y_train, pred_train))\n",
    "\n",
    "confusion_matrix(y_train, pred_train)"
   ]
  },
  {
   "cell_type": "code",
   "execution_count": 65,
   "id": "f201b0c3",
   "metadata": {
    "scrolled": true
   },
   "outputs": [
    {
     "name": "stdout",
     "output_type": "stream",
     "text": [
      "              precision    recall  f1-score   support\n",
      "\n",
      "       False       0.98      0.85      0.91       287\n",
      "        True       0.53      0.91      0.67        54\n",
      "\n",
      "    accuracy                           0.86       341\n",
      "   macro avg       0.75      0.88      0.79       341\n",
      "weighted avg       0.91      0.86      0.87       341\n",
      "\n"
     ]
    },
    {
     "data": {
      "text/plain": [
       "array([[243,  44],\n",
       "       [  5,  49]], dtype=int64)"
      ]
     },
     "execution_count": 65,
     "metadata": {},
     "output_type": "execute_result"
    }
   ],
   "source": [
    "pred_test = clf.predict(X_test)\n",
    "\n",
    "print(classification_report(y_test, pred_test))\n",
    "\n",
    "confusion_matrix(y_test, pred_test)"
   ]
  },
  {
   "cell_type": "code",
   "execution_count": 66,
   "id": "b74a8617",
   "metadata": {},
   "outputs": [
    {
     "data": {
      "text/plain": [
       "<AxesSubplot:ylabel='Count'>"
      ]
     },
     "execution_count": 66,
     "metadata": {},
     "output_type": "execute_result"
    },
    {
     "data": {
      "image/png": "[encoded data removed]",
      "text/plain": [
       "<Figure size 432x288 with 1 Axes>"
      ]
     },
     "metadata": {
      "needs_background": "light"
     },
     "output_type": "display_data"
    }
   ],
   "source": [
    "import seaborn as sns\n",
    "\n",
    "probs = np.mean(np.array([est.predict_proba(X_test)[:,1] for est in clf.estimators_]), axis = 0)\n",
    "sns.histplot(probs)"
   ]
  },
  {
   "cell_type": "code",
   "execution_count": 67,
   "id": "cbe70bc0",
   "metadata": {
    "scrolled": true
   },
   "outputs": [
    {
     "data": {
      "text/plain": [
       "<AxesSubplot:ylabel='Count'>"
      ]
     },
     "execution_count": 67,
     "metadata": {},
     "output_type": "execute_result"
    },
    {
     "data": {
      "image/png": "[encoded data removed]",
      "text/plain": [
       "<Figure size 432x288 with 1 Axes>"
      ]
     },
     "metadata": {
      "needs_background": "light"
     },
     "output_type": "display_data"
    }
   ],
   "source": [
    "def unweighted_prediction(clf, X):\n",
    "    preds = np.array([est.predict(X) for est in clf.estimators_])\n",
    "    probs = np.mean(preds, axis = 0)\n",
    "    pmax = np.max(probs)\n",
    "    pmin = np.min(probs)\n",
    "    return (probs - pmin) / (pmax - pmin)\n",
    "\n",
    "sns.histplot(unweighted_prediction(clf, X_test))"
   ]
  },
  {
   "cell_type": "code",
   "execution_count": 70,
   "id": "abe97b7e",
   "metadata": {},
   "outputs": [
    {
     "name": "stdout",
     "output_type": "stream",
     "text": [
      "127\n"
     ]
    },
    {
     "data": {
      "text/plain": [
       "array(['    ', '         ', '              ', '          if', '     #',\n",
       "       '     # -', '     for', '     if', '     if is_odd', '     return',\n",
       "       '     return a_number', '#', '# -', '# - -', '%', '% 2', '% 2 =',\n",
       "       '(', '( [', '( a_number', '( a_number :', '( maximum_odd',\n",
       "       '( maximum_odd (', ')', ') ,', ') -', ') - >', ') assert_equal',\n",
       "       ') assert_equal (', ',', '-', '-     ', '-      return', '- -',\n",
       "       '- -     ', '- >', '- > bool', '- > int', '0', '0 ]', '0 ]     ',\n",
       "       '1', '1 def', '1 def maximum_odd', '2', '2 ,', '2 =', '2 = =', '3',\n",
       "       ':', ':     ', ':          ', ':      #', ': [', ': [ int',\n",
       "       ': int', ': int )', '=', '= 1', '= 1 def', '= =', '= = 1', '>',\n",
       "       '> bool', '> bool :', '> int', '> int :', 'True', '[', '[ 0',\n",
       "       '[ 0 ]', '[ int', '[ int ]', ']', ']     ', ']      for', '] )',\n",
       "       '] ) ,', '] ) -', 'a_number', 'a_number %', 'a_number % 2',\n",
       "       'a_number :', 'a_number : int', 'assert_equal', 'assert_equal (',\n",
       "       'assert_equal ( maximum_odd', 'assert_equal def',\n",
       "       'assert_equal def is_odd', 'bool', 'bool :', 'bool :     ',\n",
       "       'cisc108', 'cisc108 import', 'cisc108 import assert_equal', 'def',\n",
       "       'def is_odd', 'def is_odd (', 'def maximum_odd',\n",
       "       'def maximum_odd (', 'for', 'from', 'from cisc108',\n",
       "       'from cisc108 import', 'if', 'if is_odd', 'if is_odd (', 'import',\n",
       "       'import assert_equal', 'import assert_equal def', 'in', 'int',\n",
       "       'int )', 'int ) -', 'int :', 'int :     ', 'int ]', 'int ] )',\n",
       "       'is_odd', 'is_odd (', 'is_odd ( a_number', 'maximum_odd',\n",
       "       'maximum_odd (', 'maximum_odd ( [', 'return', 'return a_number',\n",
       "       'return a_number %'], dtype=object)"
      ]
     },
     "execution_count": 70,
     "metadata": {},
     "output_type": "execute_result"
    }
   ],
   "source": [
    "from sklearn.metrics.pairwise import cosine_similarity\n",
    "\n",
    "# X_test[0].toarray()\n",
    "\n",
    "X_train_array = X_train.toarray()\n",
    "perc_feat_present = (X_train_array > 0).mean(axis=0)\n",
    "common_feature_indicies = perc_feat_present > 0.5\n",
    "common_features = feature_names[common_feature_indicies]\n",
    "print(len(common_features))\n",
    "common_features\n",
    "\n",
    "#sns.displot(perc_feat_present, kind=\"kde\")\n",
    "\n",
    "# print(.shape)\n",
    "# sns.histplot(X_train.toarray().mean(axis=0).round())\n",
    "\n",
    "# np.apply_along_axis(lambda row: cosine_similarity(X_test[0]), 1, X_train)"
   ]
  },
  {
   "cell_type": "code",
   "execution_count": 73,
   "id": "4f845aff",
   "metadata": {},
   "outputs": [
    {
     "data": {
      "text/plain": [
       "<AxesSubplot:ylabel='Count'>"
      ]
     },
     "execution_count": 73,
     "metadata": {},
     "output_type": "execute_result"
    },
    {
     "data": {
      "image/png": "[encoded data removed]",
      "text/plain": [
       "<Figure size 432x288 with 1 Axes>"
      ]
     },
     "metadata": {
      "needs_background": "light"
     },
     "output_type": "display_data"
    }
   ],
   "source": [
    "mean_features = X_train_array.mean(axis=0)\n",
    "sns.histplot(mean_features[common_feature_indicies])"
   ]
  },
  {
   "cell_type": "code",
   "execution_count": 82,
   "id": "8b6f8a2b",
   "metadata": {},
   "outputs": [
    {
     "data": {
      "text/plain": [
       "<2x4993 sparse matrix of type '<class 'numpy.int64'>'\n",
       "\twith 486 stored elements in Compressed Sparse Row format>"
      ]
     },
     "execution_count": 82,
     "metadata": {},
     "output_type": "execute_result"
    }
   ],
   "source": [
    "X_test[0:2]"
   ]
  },
  {
   "cell_type": "code",
   "execution_count": 85,
   "id": "a656d084",
   "metadata": {},
   "outputs": [
    {
     "data": {
      "text/plain": [
       "array([0.86486878, 0.90134036])"
      ]
     },
     "execution_count": 85,
     "metadata": {},
     "output_type": "execute_result"
    }
   ],
   "source": [
    "def progress_score_single(features):\n",
    "    completion = features[common_feature_indicies] / mean_features[common_feature_indicies]\n",
    "    completion = np.clip(completion, 0, 1)\n",
    "    return completion.mean()\n",
    "\n",
    "def progress_score(X):\n",
    "    test = X.toarray()\n",
    "    return np.apply_along_axis(progress_score_single, 1, test)\n",
    "\n",
    "progress_score(X_test[0:2])"
   ]
  },
  {
   "cell_type": "code",
   "execution_count": 86,
   "id": "961cdfea",
   "metadata": {},
   "outputs": [
    {
     "data": {
      "text/plain": [
       "<AxesSubplot:ylabel='Count'>"
      ]
     },
     "execution_count": 86,
     "metadata": {},
     "output_type": "execute_result"
    },
    {
     "data": {
      "image/png": "[encoded data removed]",
      "text/plain": [
       "<Figure size 432x288 with 1 Axes>"
      ]
     },
     "metadata": {
      "needs_background": "light"
     },
     "output_type": "display_data"
    }
   ],
   "source": [
    "sns.histplot(progress_score(X_test))"
   ]
  },
  {
   "cell_type": "code",
   "execution_count": 87,
   "id": "7eecff8e",
   "metadata": {},
   "outputs": [
    {
     "data": {
      "text/html": [
       "<div>\n",
       "<style scoped>\n",
       "    .dataframe tbody tr th:only-of-type {\n",
       "        vertical-align: middle;\n",
       "    }\n",
       "\n",
       "    .dataframe tbody tr th {\n",
       "        vertical-align: top;\n",
       "    }\n",
       "\n",
       "    .dataframe thead th {\n",
       "        text-align: right;\n",
       "    }\n",
       "</style>\n",
       "<table border=\"1\" class=\"dataframe\">\n",
       "  <thead>\n",
       "    <tr style=\"text-align: right;\">\n",
       "      <th></th>\n",
       "      <th>SubjectID</th>\n",
       "      <th>AssignmentID</th>\n",
       "      <th>CodeStateID</th>\n",
       "      <th>Contents</th>\n",
       "    </tr>\n",
       "  </thead>\n",
       "  <tbody>\n",
       "    <tr>\n",
       "      <th>0</th>\n",
       "      <td>750</td>\n",
       "      <td>139</td>\n",
       "      <td>403632</td>\n",
       "      <td>b\"from cisc108 import assert_equal\\n\\ndef is_o...</td>\n",
       "    </tr>\n",
       "    <tr>\n",
       "      <th>1</th>\n",
       "      <td>750</td>\n",
       "      <td>139</td>\n",
       "      <td>403653</td>\n",
       "      <td>b\"from cisc108 import assert_equal\\n\\ndef is_o...</td>\n",
       "    </tr>\n",
       "    <tr>\n",
       "      <th>2</th>\n",
       "      <td>750</td>\n",
       "      <td>139</td>\n",
       "      <td>403676</td>\n",
       "      <td>b\"from cisc108 import assert_equal\\n\\ndef is_o...</td>\n",
       "    </tr>\n",
       "    <tr>\n",
       "      <th>3</th>\n",
       "      <td>750</td>\n",
       "      <td>139</td>\n",
       "      <td>403679</td>\n",
       "      <td>b\"from cisc108 import assert_equal\\n\\ndef is_o...</td>\n",
       "    </tr>\n",
       "    <tr>\n",
       "      <th>4</th>\n",
       "      <td>750</td>\n",
       "      <td>139</td>\n",
       "      <td>403681</td>\n",
       "      <td>b\"from cisc108 import assert_equal\\n\\n\\n\\ndef ...</td>\n",
       "    </tr>\n",
       "    <tr>\n",
       "      <th>...</th>\n",
       "      <td>...</td>\n",
       "      <td>...</td>\n",
       "      <td>...</td>\n",
       "      <td>...</td>\n",
       "    </tr>\n",
       "    <tr>\n",
       "      <th>9844</th>\n",
       "      <td>726</td>\n",
       "      <td>139</td>\n",
       "      <td>1021370</td>\n",
       "      <td>b\"from cisc108 import assert_equal\\n\\ndef is_o...</td>\n",
       "    </tr>\n",
       "    <tr>\n",
       "      <th>9845</th>\n",
       "      <td>726</td>\n",
       "      <td>139</td>\n",
       "      <td>1021370</td>\n",
       "      <td>b\"from cisc108 import assert_equal\\n\\ndef is_o...</td>\n",
       "    </tr>\n",
       "    <tr>\n",
       "      <th>9846</th>\n",
       "      <td>726</td>\n",
       "      <td>139</td>\n",
       "      <td>1021371</td>\n",
       "      <td>b\"from cisc108 import assert_equal\\n\\ndef is_o...</td>\n",
       "    </tr>\n",
       "    <tr>\n",
       "      <th>9847</th>\n",
       "      <td>726</td>\n",
       "      <td>139</td>\n",
       "      <td>1021371</td>\n",
       "      <td>b\"from cisc108 import assert_equal\\n\\ndef is_o...</td>\n",
       "    </tr>\n",
       "    <tr>\n",
       "      <th>9848</th>\n",
       "      <td>726</td>\n",
       "      <td>139</td>\n",
       "      <td>1021345</td>\n",
       "      <td>b\"from cisc108 import assert_equal\\n\\ndef is_o...</td>\n",
       "    </tr>\n",
       "  </tbody>\n",
       "</table>\n",
       "<p>9849 rows × 4 columns</p>\n",
       "</div>"
      ],
      "text/plain": [
       "     SubjectID AssignmentID CodeStateID  \\\n",
       "0          750          139      403632   \n",
       "1          750          139      403653   \n",
       "2          750          139      403676   \n",
       "3          750          139      403679   \n",
       "4          750          139      403681   \n",
       "...        ...          ...         ...   \n",
       "9844       726          139     1021370   \n",
       "9845       726          139     1021370   \n",
       "9846       726          139     1021371   \n",
       "9847       726          139     1021371   \n",
       "9848       726          139     1021345   \n",
       "\n",
       "                                               Contents  \n",
       "0     b\"from cisc108 import assert_equal\\n\\ndef is_o...  \n",
       "1     b\"from cisc108 import assert_equal\\n\\ndef is_o...  \n",
       "2     b\"from cisc108 import assert_equal\\n\\ndef is_o...  \n",
       "3     b\"from cisc108 import assert_equal\\n\\ndef is_o...  \n",
       "4     b\"from cisc108 import assert_equal\\n\\n\\n\\ndef ...  \n",
       "...                                                 ...  \n",
       "9844  b\"from cisc108 import assert_equal\\n\\ndef is_o...  \n",
       "9845  b\"from cisc108 import assert_equal\\n\\ndef is_o...  \n",
       "9846  b\"from cisc108 import assert_equal\\n\\ndef is_o...  \n",
       "9847  b\"from cisc108 import assert_equal\\n\\ndef is_o...  \n",
       "9848  b\"from cisc108 import assert_equal\\n\\ndef is_o...  \n",
       "\n",
       "[9849 rows x 4 columns]"
      ]
     },
     "execution_count": 87,
     "metadata": {},
     "output_type": "execute_result"
    }
   ],
   "source": [
    "query = f\"\"\"\n",
    "select SubjectID, AssignmentID, CodeStateID, Contents from (\n",
    "select SubjectID, AssignmentID, CodeStateID, CodeStateSection from MainTable where AssignmentId = \"{assignmentID}\" and EventType=\"File.Edit\"\n",
    ") as main JOIN CodeState where main.CodeStateID = CodeState.ID and main.CodeStateSection = CodeState.Filename\n",
    "\"\"\"\n",
    "\n",
    "con = sqlite3.connect(\"data/progsnap2_21_consenting_no_demographics.db\")\n",
    "all_edits = pd.read_sql_query(query, con)\n",
    "\n",
    "all_edits"
   ]
  },
  {
   "cell_type": "code",
   "execution_count": 91,
   "id": "1e44e580",
   "metadata": {},
   "outputs": [],
   "source": [
    "X_edits_code = all_edits.Contents.str.decode('UTF-8').apply(strip_comments)\n",
    "X_edits = vectorizer.transform(X_edits_code)"
   ]
  },
  {
   "cell_type": "code",
   "execution_count": 89,
   "id": "4b0643d7",
   "metadata": {},
   "outputs": [
    {
     "data": {
      "text/plain": [
       "<9849x4993 sparse matrix of type '<class 'numpy.int64'>'\n",
       "\twith 1977851 stored elements in Compressed Sparse Row format>"
      ]
     },
     "execution_count": 89,
     "metadata": {},
     "output_type": "execute_result"
    }
   ],
   "source": [
    "X_edits"
   ]
  },
  {
   "cell_type": "code",
   "execution_count": 90,
   "id": "4da51ca2",
   "metadata": {
    "scrolled": true
   },
   "outputs": [
    {
     "data": {
      "text/html": [
       "<div>\n",
       "<style scoped>\n",
       "    .dataframe tbody tr th:only-of-type {\n",
       "        vertical-align: middle;\n",
       "    }\n",
       "\n",
       "    .dataframe tbody tr th {\n",
       "        vertical-align: top;\n",
       "    }\n",
       "\n",
       "    .dataframe thead th {\n",
       "        text-align: right;\n",
       "    }\n",
       "</style>\n",
       "<table border=\"1\" class=\"dataframe\">\n",
       "  <thead>\n",
       "    <tr style=\"text-align: right;\">\n",
       "      <th></th>\n",
       "      <th>Code</th>\n",
       "      <th>Progress_score</th>\n",
       "      <th>Correctness_score</th>\n",
       "      <th>Correct</th>\n",
       "    </tr>\n",
       "  </thead>\n",
       "  <tbody>\n",
       "    <tr>\n",
       "      <th>784</th>\n",
       "      <td>from cisc108 import assert_equal\\n\\ndef is_odd...</td>\n",
       "      <td>0.864869</td>\n",
       "      <td>0.471560</td>\n",
       "      <td>False</td>\n",
       "    </tr>\n",
       "    <tr>\n",
       "      <th>900</th>\n",
       "      <td>from cisc108 import assert_equal\\n\\ndef is_odd...</td>\n",
       "      <td>0.901340</td>\n",
       "      <td>0.132964</td>\n",
       "      <td>False</td>\n",
       "    </tr>\n",
       "    <tr>\n",
       "      <th>413</th>\n",
       "      <td>from cisc108 import assert_equal\\n\\ndef is_odd...</td>\n",
       "      <td>0.879139</td>\n",
       "      <td>0.554896</td>\n",
       "      <td>True</td>\n",
       "    </tr>\n",
       "    <tr>\n",
       "      <th>467</th>\n",
       "      <td>from cisc108 import assert_equal\\n\\ndef is_odd...</td>\n",
       "      <td>0.874611</td>\n",
       "      <td>0.506448</td>\n",
       "      <td>False</td>\n",
       "    </tr>\n",
       "    <tr>\n",
       "      <th>746</th>\n",
       "      <td>from cisc108 import assert_equal\\n\\ndef is_odd...</td>\n",
       "      <td>0.785203</td>\n",
       "      <td>0.505294</td>\n",
       "      <td>False</td>\n",
       "    </tr>\n",
       "    <tr>\n",
       "      <th>...</th>\n",
       "      <td>...</td>\n",
       "      <td>...</td>\n",
       "      <td>...</td>\n",
       "      <td>...</td>\n",
       "    </tr>\n",
       "    <tr>\n",
       "      <th>334</th>\n",
       "      <td>from cisc108 import assert_equal\\n\\ndef is_odd...</td>\n",
       "      <td>0.843478</td>\n",
       "      <td>0.518025</td>\n",
       "      <td>False</td>\n",
       "    </tr>\n",
       "    <tr>\n",
       "      <th>714</th>\n",
       "      <td>from cisc108 import assert_equal\\n\\ndef is_odd...</td>\n",
       "      <td>0.910437</td>\n",
       "      <td>0.499765</td>\n",
       "      <td>False</td>\n",
       "    </tr>\n",
       "    <tr>\n",
       "      <th>834</th>\n",
       "      <td>from cisc108 import assert_equal\\n\\ndef is_odd...</td>\n",
       "      <td>0.937846</td>\n",
       "      <td>0.582102</td>\n",
       "      <td>False</td>\n",
       "    </tr>\n",
       "    <tr>\n",
       "      <th>677</th>\n",
       "      <td>from cisc108 import assert_equal\\n\\ndef is_odd...</td>\n",
       "      <td>0.941102</td>\n",
       "      <td>0.147726</td>\n",
       "      <td>False</td>\n",
       "    </tr>\n",
       "    <tr>\n",
       "      <th>513</th>\n",
       "      <td>from cisc108 import assert_equal\\n\\ndef maximu...</td>\n",
       "      <td>0.492042</td>\n",
       "      <td>0.140479</td>\n",
       "      <td>False</td>\n",
       "    </tr>\n",
       "  </tbody>\n",
       "</table>\n",
       "<p>341 rows × 4 columns</p>\n",
       "</div>"
      ],
      "text/plain": [
       "                                                  Code  Progress_score  \\\n",
       "784  from cisc108 import assert_equal\\n\\ndef is_odd...        0.864869   \n",
       "900  from cisc108 import assert_equal\\n\\ndef is_odd...        0.901340   \n",
       "413  from cisc108 import assert_equal\\n\\ndef is_odd...        0.879139   \n",
       "467  from cisc108 import assert_equal\\n\\ndef is_odd...        0.874611   \n",
       "746  from cisc108 import assert_equal\\n\\ndef is_odd...        0.785203   \n",
       "..                                                 ...             ...   \n",
       "334  from cisc108 import assert_equal\\n\\ndef is_odd...        0.843478   \n",
       "714  from cisc108 import assert_equal\\n\\ndef is_odd...        0.910437   \n",
       "834  from cisc108 import assert_equal\\n\\ndef is_odd...        0.937846   \n",
       "677  from cisc108 import assert_equal\\n\\ndef is_odd...        0.941102   \n",
       "513  from cisc108 import assert_equal\\n\\ndef maximu...        0.492042   \n",
       "\n",
       "     Correctness_score  Correct  \n",
       "784           0.471560    False  \n",
       "900           0.132964    False  \n",
       "413           0.554896     True  \n",
       "467           0.506448    False  \n",
       "746           0.505294    False  \n",
       "..                 ...      ...  \n",
       "334           0.518025    False  \n",
       "714           0.499765    False  \n",
       "834           0.582102    False  \n",
       "677           0.147726    False  \n",
       "513           0.140479    False  \n",
       "\n",
       "[341 rows x 4 columns]"
      ]
     },
     "execution_count": 90,
     "metadata": {},
     "output_type": "execute_result"
    }
   ],
   "source": [
    "sample = pd.DataFrame({\n",
    "    'Code': X_test_code,\n",
    "    'Progress_score': progress_score(X_test),\n",
    "    'Correctness_score': clf.predict_proba(X_test)[:,1],\n",
    "    'Correct': y_test\n",
    "})\n",
    "sample.to_csv(f'data/out/p{assignmentID}.csv', index=False)\n",
    "sample"
   ]
  },
  {
   "cell_type": "code",
   "execution_count": 92,
   "id": "bee1e5d7",
   "metadata": {},
   "outputs": [
    {
     "data": {
      "text/html": [
       "<div>\n",
       "<style scoped>\n",
       "    .dataframe tbody tr th:only-of-type {\n",
       "        vertical-align: middle;\n",
       "    }\n",
       "\n",
       "    .dataframe tbody tr th {\n",
       "        vertical-align: top;\n",
       "    }\n",
       "\n",
       "    .dataframe thead th {\n",
       "        text-align: right;\n",
       "    }\n",
       "</style>\n",
       "<table border=\"1\" class=\"dataframe\">\n",
       "  <thead>\n",
       "    <tr style=\"text-align: right;\">\n",
       "      <th></th>\n",
       "      <th>Code</th>\n",
       "      <th>Progress_score</th>\n",
       "      <th>Correctness_score</th>\n",
       "    </tr>\n",
       "  </thead>\n",
       "  <tbody>\n",
       "    <tr>\n",
       "      <th>0</th>\n",
       "      <td>from cisc108 import assert_equal\\n\\ndef is_odd...</td>\n",
       "      <td>0.467335</td>\n",
       "      <td>0.024788</td>\n",
       "    </tr>\n",
       "    <tr>\n",
       "      <th>1</th>\n",
       "      <td>from cisc108 import assert_equal\\n\\ndef is_odd...</td>\n",
       "      <td>0.469860</td>\n",
       "      <td>0.025328</td>\n",
       "    </tr>\n",
       "    <tr>\n",
       "      <th>2</th>\n",
       "      <td>from cisc108 import assert_equal\\n\\ndef is_odd...</td>\n",
       "      <td>0.470266</td>\n",
       "      <td>0.025328</td>\n",
       "    </tr>\n",
       "    <tr>\n",
       "      <th>3</th>\n",
       "      <td>from cisc108 import assert_equal\\n\\ndef is_odd...</td>\n",
       "      <td>0.580528</td>\n",
       "      <td>0.024788</td>\n",
       "    </tr>\n",
       "    <tr>\n",
       "      <th>4</th>\n",
       "      <td>from cisc108 import assert_equal\\n\\n\\n\\ndef is...</td>\n",
       "      <td>0.580528</td>\n",
       "      <td>0.024788</td>\n",
       "    </tr>\n",
       "    <tr>\n",
       "      <th>...</th>\n",
       "      <td>...</td>\n",
       "      <td>...</td>\n",
       "      <td>...</td>\n",
       "    </tr>\n",
       "    <tr>\n",
       "      <th>9844</th>\n",
       "      <td>from cisc108 import assert_equal\\n\\ndef is_odd...</td>\n",
       "      <td>0.864622</td>\n",
       "      <td>0.022765</td>\n",
       "    </tr>\n",
       "    <tr>\n",
       "      <th>9845</th>\n",
       "      <td>from cisc108 import assert_equal\\n\\ndef is_odd...</td>\n",
       "      <td>0.864622</td>\n",
       "      <td>0.022765</td>\n",
       "    </tr>\n",
       "    <tr>\n",
       "      <th>9846</th>\n",
       "      <td>from cisc108 import assert_equal\\n\\ndef is_odd...</td>\n",
       "      <td>0.864622</td>\n",
       "      <td>0.022765</td>\n",
       "    </tr>\n",
       "    <tr>\n",
       "      <th>9847</th>\n",
       "      <td>from cisc108 import assert_equal\\n\\ndef is_odd...</td>\n",
       "      <td>0.864622</td>\n",
       "      <td>0.022765</td>\n",
       "    </tr>\n",
       "    <tr>\n",
       "      <th>9848</th>\n",
       "      <td>from cisc108 import assert_equal\\n\\ndef is_odd...</td>\n",
       "      <td>0.834958</td>\n",
       "      <td>0.024788</td>\n",
       "    </tr>\n",
       "  </tbody>\n",
       "</table>\n",
       "<p>9849 rows × 3 columns</p>\n",
       "</div>"
      ],
      "text/plain": [
       "                                                   Code  Progress_score  \\\n",
       "0     from cisc108 import assert_equal\\n\\ndef is_odd...        0.467335   \n",
       "1     from cisc108 import assert_equal\\n\\ndef is_odd...        0.469860   \n",
       "2     from cisc108 import assert_equal\\n\\ndef is_odd...        0.470266   \n",
       "3     from cisc108 import assert_equal\\n\\ndef is_odd...        0.580528   \n",
       "4     from cisc108 import assert_equal\\n\\n\\n\\ndef is...        0.580528   \n",
       "...                                                 ...             ...   \n",
       "9844  from cisc108 import assert_equal\\n\\ndef is_odd...        0.864622   \n",
       "9845  from cisc108 import assert_equal\\n\\ndef is_odd...        0.864622   \n",
       "9846  from cisc108 import assert_equal\\n\\ndef is_odd...        0.864622   \n",
       "9847  from cisc108 import assert_equal\\n\\ndef is_odd...        0.864622   \n",
       "9848  from cisc108 import assert_equal\\n\\ndef is_odd...        0.834958   \n",
       "\n",
       "      Correctness_score  \n",
       "0              0.024788  \n",
       "1              0.025328  \n",
       "2              0.025328  \n",
       "3              0.024788  \n",
       "4              0.024788  \n",
       "...                 ...  \n",
       "9844           0.022765  \n",
       "9845           0.022765  \n",
       "9846           0.022765  \n",
       "9847           0.022765  \n",
       "9848           0.024788  \n",
       "\n",
       "[9849 rows x 3 columns]"
      ]
     },
     "execution_count": 92,
     "metadata": {},
     "output_type": "execute_result"
    }
   ],
   "source": [
    "sample = pd.DataFrame({\n",
    "    'Code': X_edits_code,\n",
    "    'Progress_score': progress_score(X_edits),\n",
    "    'Correctness_score': clf.predict_proba(X_edits)[:,1]\n",
    "})\n",
    "sample.to_csv(f'data/out/p{assignmentID}-edits.csv', index=False)\n",
    "sample"
   ]
  },
  {
   "cell_type": "code",
   "execution_count": 13,
   "id": "e99f321f",
   "metadata": {
    "scrolled": true
   },
   "outputs": [
    {
     "data": {
      "image/png": "[encoded data removed]",
      "text/plain": [
       "<Figure size 432x288 with 1 Axes>"
      ]
     },
     "metadata": {
      "needs_background": "light"
     },
     "output_type": "display_data"
    }
   ],
   "source": [
    "from sklearn.tree import plot_tree\n",
    "\n",
    "def print_rule(clf, index):\n",
    "    estimator = clf.estimators_[index]\n",
    "#     name = feature_names[estimator.tree_.feature[0]]\n",
    "#     thresh = estimator.tree_.threshold[0]\n",
    "#     estimator_samples = clf.estimators_samples_[index]\n",
    "#     children = estimator.apply(X_resampled[estimator_samples])\n",
    "#     perc_child_1 = np.mean(y_resampled[estimator_samples][children == 1])\n",
    "#     perc_child_2 = np.mean(y_resampled[estimator_samples][children == 2])\n",
    "#     pred_child_1 = perc_child_1 > 0.5\n",
    "#     pred_child_2 = perc_child_2 > 0.5\n",
    "#     if pred_child_1 and pred_child_2:\n",
    "#         print(f\"Degenerate rule: always {pred_child_1}\")\n",
    "#         return\n",
    "#     if pred_child_1:\n",
    "#         print (f\"If {name} < {thresh}, True\")\n",
    "#     else:\n",
    "#         print (f\"If {name} > {thresh}, True\")\n",
    "    plot_tree(estimator)\n",
    "    \n",
    "print_rule(clf, 8)"
   ]
  },
  {
   "cell_type": "code",
   "execution_count": 14,
   "id": "95acdb3b",
   "metadata": {},
   "outputs": [
    {
     "data": {
      "text/plain": [
       "['is_odd (',\n",
       " 'maximum_odd (',\n",
       " '10 ]',\n",
       " '6',\n",
       " '= 0     ',\n",
       " '2 , 7',\n",
       " 'item ) =',\n",
       " 'and',\n",
       " '= highest',\n",
       " ', 2 ,',\n",
       " ') >',\n",
       " '( number',\n",
       " ', 4 ,',\n",
       " '13',\n",
       " '[ 0 ]',\n",
       " '22 ) ,',\n",
       " '          return',\n",
       " '[ 2',\n",
       " ':      max_odd',\n",
       " '] )     ']"
      ]
     },
     "execution_count": 14,
     "metadata": {},
     "output_type": "execute_result"
    }
   ],
   "source": [
    "[feature_names[est.tree_.feature[0]] for est in clf.estimators_]"
   ]
  }
 ],
 "metadata": {
  "kernelspec": {
   "display_name": "Python 3 (ipykernel)",
   "language": "python",
   "name": "python3"
  },
  "language_info": {
   "codemirror_mode": {
    "name": "ipython",
    "version": 3
   },
   "file_extension": ".py",
   "mimetype": "text/x-python",
   "name": "python",
   "nbconvert_exporter": "python",
   "pygments_lexer": "ipython3",
   "version": "3.9.12"
  }
 },
 "nbformat": 4,
 "nbformat_minor": 5
}
